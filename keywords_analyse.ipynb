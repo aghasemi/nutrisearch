{
 "cells": [
  {
   "cell_type": "code",
   "execution_count": 12,
   "metadata": {},
   "outputs": [
    {
     "name": "stdout",
     "output_type": "stream",
     "text": [
      "46954\n",
      "42889\n"
     ]
    }
   ],
   "source": [
    "import pandas as pd, spacy \n",
    "nlp = spacy.load(\"en_core_web_lg\")\n",
    "\n",
    "df_ch = pd.read_pickle(\"ch.pkl\")\n",
    "df_ch = df_ch.dropna(subset=['energy-kcal_100g', 'fat_100g', 'carbohydrates_100g', 'product_name', 'image_nutrition_small_url', 'keywords'])\n",
    "#for c in ['energy-kcal_100g', 'fat_100g', 'carbohydrates_100g']: df = df[ df[c].apply(lambda x: str(x).__len__()>0) ]\n",
    "\n",
    "df_uk = pd.read_pickle(\"uk.pkl\")\n",
    "df_uk = df_uk.dropna(subset=['energy-kcal_100g', 'fat_100g', 'carbohydrates_100g', 'product_name', 'image_nutrition_small_url', 'keywords'])\n",
    "\n",
    "\n",
    "\n",
    "print(len(df_ch))\n",
    "print(len(df_uk))\n",
    "\n",
    "CALORIES_COLUMN_NAME = 'energy-kcal_100g'\n",
    "FAT_COLUMN_NAME = 'fat_100g'\n",
    "CARBS_COLUMN_NAME = 'carbohydrates_100g'\n",
    "\n",
    "SATURATED_FAT_COLUMN_NAME = 'saturated-fat_100g'\n",
    "CHOLESTEROL_COLUMN_NAME = 'cholesterol_100g'\n",
    "SUGARS_COLUMN_NAME = 'sugars_100g'\n",
    "FIBRE_COLUMN_NAME = 'fiber_100g'\n",
    "\n"
   ]
  },
  {
   "cell_type": "code",
   "execution_count": 2,
   "metadata": {},
   "outputs": [],
   "source": [
    "pd.set_option('display.max_colwidth', 1000)\n",
    "#df = df_uk\n",
    "#df.loc[ df['keywords'].isnull() , 'keywords'] = df['product_name'].str.title()\n",
    "\n",
    "#df.to_csv('uk.csv', index=None)"
   ]
  },
  {
   "cell_type": "code",
   "execution_count": 13,
   "metadata": {},
   "outputs": [
    {
     "name": "stdout",
     "output_type": "stream",
     "text": [
      "UK:10775 CH:16330\n"
     ]
    }
   ],
   "source": [
    "keywords_ch = set([kw.title() for kws in df_ch['keywords'] for kw in str(kws).split('|') if len(kw)>0 and kw[0].isalpha() and kw[-1].isalpha()])\n",
    "keywords_uk = set([kw.title() for kws in df_uk['keywords'] for kw in str(kws).split('|') if len(kw)>0 and kw[0].isalpha() and kw[-1].isalpha()])\n",
    "\n",
    "\n",
    "print(f\"UK:{len(keywords_uk)} CH:{len(keywords_ch)}\")"
   ]
  },
  {
   "cell_type": "code",
   "execution_count": 15,
   "metadata": {},
   "outputs": [],
   "source": [
    "df = df_ch\n",
    "#keywords = keywords_ch\n",
    "\n",
    "df['keywords_parsed'] = df['keywords'].apply(lambda s: set(str(s).split('|')))\n",
    "\n",
    "#for kw in keywords: df[kw] = df['keywords_parsed'].apply(lambda arr: 1 if kw in arr else 0)\n",
    "\n",
    "\n",
    "df.to_pickle('ch.pkl', protocol=5)"
   ]
  },
  {
   "cell_type": "code",
   "execution_count": 16,
   "metadata": {},
   "outputs": [
    {
     "data": {
      "text/plain": [
       "83701"
      ]
     },
     "execution_count": 16,
     "metadata": {},
     "output_type": "execute_result"
    }
   ],
   "source": [
    "import pathlib\n",
    "\n",
    "pathlib.Path('keywords.ch').write_text('\\n'.join(keywords_ch))\n",
    "pathlib.Path('keywords.uk').write_text('\\n'.join(keywords_uk))"
   ]
  }
 ],
 "metadata": {
  "interpreter": {
   "hash": "916dbcbb3f70747c44a77c7bcd40155683ae19c65e1c03b4aa3499c5328201f1"
  },
  "kernelspec": {
   "display_name": "Python 3.10.4 64-bit",
   "language": "python",
   "name": "python3"
  },
  "language_info": {
   "codemirror_mode": {
    "name": "ipython",
    "version": 3
   },
   "file_extension": ".py",
   "mimetype": "text/x-python",
   "name": "python",
   "nbconvert_exporter": "python",
   "pygments_lexer": "ipython3",
   "version": "3.10.4"
  },
  "orig_nbformat": 4
 },
 "nbformat": 4,
 "nbformat_minor": 2
}
